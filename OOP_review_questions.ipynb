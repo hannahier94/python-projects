{
 "cells": [
  {
   "cell_type": "markdown",
   "metadata": {},
   "source": [
    "# Object Oriented Programming Review:\n",
    "## Building simple classes, attributes, and methods\n",
    "\n",
    "This assignment was created by Pierian Data as part of an online course in Python Programming.\n",
    "\n",
    "#### Problem 1\n",
    "Fill in the Line class methods to accept coordinates as a pair of tuples and return the slope and distance of the line."
   ]
  },
  {
   "cell_type": "code",
   "execution_count": 45,
   "metadata": {},
   "outputs": [],
   "source": [
    "class Line:\n",
    "    # Define class Line with 2 coordinates: coor1 & coor2\n",
    "    def __init__(self,coor1,coor2):\n",
    "        self.coor1 = coor1\n",
    "        self.coor2 = coor2\n",
    "    \n",
    "    # Create an attribute for the distance between 2 coordinates\n",
    "    def distance(self):\n",
    "        \n",
    "        # Unpack the coordinates \n",
    "        x1,y1 = self.coor1\n",
    "        x2,y2 =self.coor2\n",
    "        \n",
    "        # Create a variable for distance\n",
    "        dist = ((x2 - x1) **2 + (y2 - y1) **2) ** 0.5\n",
    "        \n",
    "        return dist\n",
    "    \n",
    "    #Create a function for the slope between 2 points (coordinates)\n",
    "    def slope(self):\n",
    "        \n",
    "        # Unpack the coordinates \n",
    "        x1,y1 = self.coor1\n",
    "        x2,y2 = self.coor2\n",
    "        \n",
    "        # Create a variable for slope\n",
    "        slope = (y2 - y1) / (x2-x1)\n",
    "        \n",
    "        return slope"
   ]
  },
  {
   "cell_type": "code",
   "execution_count": 46,
   "metadata": {},
   "outputs": [],
   "source": [
    "# Test it with coordinates \n",
    "\n",
    "coordinate1 = (3,2)\n",
    "coordinate2 = (8,10)\n",
    "\n",
    "li = Line(coor1=coordinate1, coor2=coordinate2)"
   ]
  },
  {
   "cell_type": "code",
   "execution_count": 47,
   "metadata": {},
   "outputs": [
    {
     "data": {
      "text/plain": [
       "9.433981132056603"
      ]
     },
     "execution_count": 47,
     "metadata": {},
     "output_type": "execute_result"
    }
   ],
   "source": [
    "li.distance()"
   ]
  },
  {
   "cell_type": "code",
   "execution_count": 48,
   "metadata": {},
   "outputs": [
    {
     "data": {
      "text/plain": [
       "1.6"
      ]
     },
     "execution_count": 48,
     "metadata": {},
     "output_type": "execute_result"
    }
   ],
   "source": [
    "li.slope()"
   ]
  },
  {
   "cell_type": "markdown",
   "metadata": {},
   "source": [
    "________\n",
    "#### Problem 2"
   ]
  },
  {
   "cell_type": "markdown",
   "metadata": {},
   "source": [
    "Fill in the class "
   ]
  },
  {
   "cell_type": "code",
   "execution_count": 58,
   "metadata": {},
   "outputs": [],
   "source": [
    "class Cylinder:\n",
    "    \n",
    "    # Create a variable for Pi for simplicity\n",
    "    pi = 3.14\n",
    "    \n",
    "    # Create class Cylinder with height & radius parameters\n",
    "    def __init__(self,height=1,radius=1):\n",
    "        self.height = height\n",
    "        self.radius = radius\n",
    "    \n",
    "    # Volume of a cylinder = pi x height x radius**2\n",
    "    # Set pi = 3.14 for simplicity \n",
    "    def volume(self):\n",
    "        vol = Cylinder.pi * self.height * (self.radius ** 2)\n",
    "        return vol\n",
    "    \n",
    "    # Area of a cylinder has formula: Area =2πrh+2πr**2\n",
    "    def surface_area(self):\n",
    "        \n",
    "        # Feel free to break it up if you prefer\n",
    "        area = (2 * Cylinder.pi * self.radius * self.height) + (2 * Cylinder.pi * (self.radius ** 2))\n",
    "        \n",
    "        return area"
   ]
  },
  {
   "cell_type": "code",
   "execution_count": 59,
   "metadata": {},
   "outputs": [],
   "source": [
    "# Create an instance of Class Cylinder with height and radius\n",
    "c = Cylinder(2,3)"
   ]
  },
  {
   "cell_type": "code",
   "execution_count": 60,
   "metadata": {
    "scrolled": true
   },
   "outputs": [
    {
     "data": {
      "text/plain": [
       "56.52"
      ]
     },
     "execution_count": 60,
     "metadata": {},
     "output_type": "execute_result"
    }
   ],
   "source": [
    "# Check the volume of the cylinder\n",
    "c.volume()"
   ]
  },
  {
   "cell_type": "code",
   "execution_count": 61,
   "metadata": {},
   "outputs": [
    {
     "data": {
      "text/plain": [
       "94.2"
      ]
     },
     "execution_count": 61,
     "metadata": {},
     "output_type": "execute_result"
    }
   ],
   "source": [
    "# Check the area of the cylinder\n",
    "c.surface_area()"
   ]
  },
  {
   "cell_type": "markdown",
   "metadata": {},
   "source": [
    "Hope you enjoyed this quick OOP review. If you found this challenging, check out the Pierian-Data Python3 course on Udemy for more details. \n",
    "\n",
    "If you found this easy, challenge yourself with 1 more question before moving on."
   ]
  },
  {
   "cell_type": "markdown",
   "metadata": {},
   "source": [
    "# Part 2: Object Oriented Programming Challenge\n",
    "\n",
    "For this challenge, create a bank account class that has two attributes:\n",
    "\n",
    "* owner\n",
    "* balance\n",
    "\n",
    "and two methods:\n",
    "\n",
    "* deposit\n",
    "* withdraw\n",
    "\n",
    "As an added requirement, withdrawals may not exceed the available balance.\n",
    "\n",
    "Instantiate your class, make several deposits and withdrawals, and test to make sure the account can't be overdrawn."
   ]
  },
  {
   "cell_type": "code",
   "execution_count": 81,
   "metadata": {},
   "outputs": [],
   "source": [
    "# Create a class named Account with relevant attributes\n",
    "\n",
    "class Account:\n",
    "    \n",
    "    # Assign the variables to the class object as attributes\n",
    "    def __init__(self, owner, balance):\n",
    "        self.owner = owner\n",
    "        self.balance = balance\n",
    "    \n",
    "    # Add a magic method to allow string version to be called\n",
    "    def __str__(self):\n",
    "        return f\"{self.owner}'s account has ${self.balance}.\"\n",
    "    \n",
    "    # Create a method for deposit\n",
    "    def deposit(self, amount):\n",
    "        self.amount = amount\n",
    "        self.balance += amount\n",
    "        print(f'${amount} successfully deposited')\n",
    "        \n",
    "    def withdraw(self, withdrawal):\n",
    "        self.withdrawal = withdrawal\n",
    "        if withdrawal > self.balance:\n",
    "            raise ValueError('Account balance less than requested withdrawal')\n",
    "        else:\n",
    "            self.balance -= withdrawal\n",
    "            print(f'Withdrawal successful, new balance : {self.balance}')\n",
    "            "
   ]
  },
  {
   "cell_type": "code",
   "execution_count": 82,
   "metadata": {},
   "outputs": [
    {
     "name": "stdout",
     "output_type": "stream",
     "text": [
      "Hanna's account has $100.\n"
     ]
    }
   ],
   "source": [
    "# Instantiate the class\n",
    "acct1 = Account('Hanna',100)\n",
    "\n",
    "# Print the object\n",
    "print(acct1)"
   ]
  },
  {
   "cell_type": "code",
   "execution_count": 84,
   "metadata": {},
   "outputs": [
    {
     "name": "stdout",
     "output_type": "stream",
     "text": [
      "Owner : Hanna\n",
      "Balance : $ 100\n"
     ]
    }
   ],
   "source": [
    "# Check the account's attributes \n",
    "print('Owner :', acct1.owner)\n",
    "print('Balance : $',acct1.balance)"
   ]
  },
  {
   "cell_type": "code",
   "execution_count": 85,
   "metadata": {},
   "outputs": [
    {
     "name": "stdout",
     "output_type": "stream",
     "text": [
      "$5 successfully deposited\n"
     ]
    }
   ],
   "source": [
    "# Deposit some amount\n",
    "acct1.deposit(5)"
   ]
  },
  {
   "cell_type": "code",
   "execution_count": 86,
   "metadata": {},
   "outputs": [
    {
     "name": "stdout",
     "output_type": "stream",
     "text": [
      "Hanna's account has $105.\n"
     ]
    }
   ],
   "source": [
    "# Check account balance\n",
    "print(acct1)"
   ]
  },
  {
   "cell_type": "code",
   "execution_count": 87,
   "metadata": {},
   "outputs": [
    {
     "name": "stdout",
     "output_type": "stream",
     "text": [
      "Withdrawal successful, new balance : 90\n"
     ]
    }
   ],
   "source": [
    "# Withdraw an amount less than current balance\n",
    "acct1.withdraw(15)"
   ]
  },
  {
   "cell_type": "code",
   "execution_count": 88,
   "metadata": {},
   "outputs": [
    {
     "name": "stdout",
     "output_type": "stream",
     "text": [
      "Hanna's account has $90.\n"
     ]
    }
   ],
   "source": [
    "# Check account balance\n",
    "print(acct1)"
   ]
  },
  {
   "cell_type": "code",
   "execution_count": 89,
   "metadata": {},
   "outputs": [
    {
     "ename": "ValueError",
     "evalue": "Account balance less than requested withdrawal",
     "output_type": "error",
     "traceback": [
      "\u001b[0;31m---------------------------------------------------------------------------\u001b[0m",
      "\u001b[0;31mValueError\u001b[0m                                Traceback (most recent call last)",
      "\u001b[0;32m<ipython-input-89-8ab87e30327e>\u001b[0m in \u001b[0;36m<module>\u001b[0;34m\u001b[0m\n\u001b[0;32m----> 1\u001b[0;31m \u001b[0macct1\u001b[0m\u001b[0;34m.\u001b[0m\u001b[0mwithdraw\u001b[0m\u001b[0;34m(\u001b[0m\u001b[0;36m100\u001b[0m\u001b[0;34m)\u001b[0m\u001b[0;34m\u001b[0m\u001b[0;34m\u001b[0m\u001b[0m\n\u001b[0m",
      "\u001b[0;32m<ipython-input-81-cc8794b90c72>\u001b[0m in \u001b[0;36mwithdraw\u001b[0;34m(self, withdrawal)\u001b[0m\n\u001b[1;32m     21\u001b[0m         \u001b[0mself\u001b[0m\u001b[0;34m.\u001b[0m\u001b[0mwithdrawal\u001b[0m \u001b[0;34m=\u001b[0m \u001b[0mwithdrawal\u001b[0m\u001b[0;34m\u001b[0m\u001b[0;34m\u001b[0m\u001b[0m\n\u001b[1;32m     22\u001b[0m         \u001b[0;32mif\u001b[0m \u001b[0mwithdrawal\u001b[0m \u001b[0;34m>\u001b[0m \u001b[0mself\u001b[0m\u001b[0;34m.\u001b[0m\u001b[0mbalance\u001b[0m\u001b[0;34m:\u001b[0m\u001b[0;34m\u001b[0m\u001b[0;34m\u001b[0m\u001b[0m\n\u001b[0;32m---> 23\u001b[0;31m             \u001b[0;32mraise\u001b[0m \u001b[0mValueError\u001b[0m\u001b[0;34m(\u001b[0m\u001b[0;34m'Account balance less than requested withdrawal'\u001b[0m\u001b[0;34m)\u001b[0m\u001b[0;34m\u001b[0m\u001b[0;34m\u001b[0m\u001b[0m\n\u001b[0m\u001b[1;32m     24\u001b[0m         \u001b[0;32melse\u001b[0m\u001b[0;34m:\u001b[0m\u001b[0;34m\u001b[0m\u001b[0;34m\u001b[0m\u001b[0m\n\u001b[1;32m     25\u001b[0m             \u001b[0mself\u001b[0m\u001b[0;34m.\u001b[0m\u001b[0mbalance\u001b[0m \u001b[0;34m-=\u001b[0m \u001b[0mwithdrawal\u001b[0m\u001b[0;34m\u001b[0m\u001b[0;34m\u001b[0m\u001b[0m\n",
      "\u001b[0;31mValueError\u001b[0m: Account balance less than requested withdrawal"
     ]
    }
   ],
   "source": [
    "# Try to withdraw an amount larger than in current balance\n",
    "\n",
    "acct1.withdraw(100)"
   ]
  },
  {
   "cell_type": "code",
   "execution_count": null,
   "metadata": {},
   "outputs": [],
   "source": []
  }
 ],
 "metadata": {
  "kernelspec": {
   "display_name": "Python 3",
   "language": "python",
   "name": "python3"
  },
  "language_info": {
   "codemirror_mode": {
    "name": "ipython",
    "version": 3
   },
   "file_extension": ".py",
   "mimetype": "text/x-python",
   "name": "python",
   "nbconvert_exporter": "python",
   "pygments_lexer": "ipython3",
   "version": "3.7.4"
  }
 },
 "nbformat": 4,
 "nbformat_minor": 1
}
